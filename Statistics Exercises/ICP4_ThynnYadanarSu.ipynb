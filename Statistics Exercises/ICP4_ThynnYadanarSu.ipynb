{
  "nbformat": 4,
  "nbformat_minor": 0,
  "metadata": {
    "colab": {
      "provenance": []
    },
    "kernelspec": {
      "name": "python3",
      "display_name": "Python 3"
    },
    "language_info": {
      "name": "python"
    }
  },
  "cells": [
    {
      "cell_type": "code",
      "execution_count": null,
      "metadata": {
        "colab": {
          "base_uri": "https://localhost:8080/"
        },
        "id": "jBe25wd1fMpe",
        "outputId": "f8146933-aa01-46ea-db65-ec2a06a49d23"
      },
      "outputs": [
        {
          "output_type": "stream",
          "name": "stdout",
          "text": [
            "7.3011848255870495\n",
            "9.150815174412951\n"
          ]
        }
      ],
      "source": [
        "from scipy.stats import t\n",
        "import math\n",
        "\n",
        "n=15\n",
        "mean=8.226\n",
        "s= 1.67\n",
        "\n",
        "lower_cutoff = t.ppf(0.025, n-1, loc = mean, scale = s/math.sqrt(n))\n",
        "upper_cutoff = t.ppf(0.975, n-1, loc = mean, scale = s/math.sqrt(n))\n",
        "\n",
        "print(lower_cutoff)\n",
        "print(upper_cutoff)"
      ]
    }
  ]
}